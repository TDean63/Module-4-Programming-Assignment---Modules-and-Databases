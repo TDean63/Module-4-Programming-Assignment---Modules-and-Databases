{
 "cells": [
  {
   "cell_type": "code",
   "execution_count": 10,
   "id": "e947e983-d686-43a3-b5e8-b4c75535ae4e",
   "metadata": {},
   "outputs": [],
   "source": [
    "#11.1\n",
    "\n",
    "# zoo.py\n",
    "def hours():\n",
    "    print(\"open 9-5 daily\")"
   ]
  },
  {
   "cell_type": "code",
   "execution_count": null,
   "id": "19e757a1-cd84-4cf4-a308-326df552a234",
   "metadata": {},
   "outputs": [],
   "source": [
    "# 11.1\n",
    "import zoo\n",
    "zoo.hours()"
   ]
  },
  {
   "cell_type": "code",
   "execution_count": null,
   "id": "512b71b8-d3a5-4a27-a1bd-24295723f04c",
   "metadata": {},
   "outputs": [],
   "source": [
    "#11.2\n",
    "import zoo as menagerie\n",
    "menagerie.hours()"
   ]
  },
  {
   "cell_type": "code",
   "execution_count": null,
   "id": "0dbbccd8-ac35-4c2a-b535-64652178356d",
   "metadata": {},
   "outputs": [],
   "source": [
    "#16.4\n",
    "\n",
    "import sqlite3\n",
    "\n",
    "# create or connect to the database\n",
    "conn = sqlite3.connect(\"books.db\")\n",
    "curs = conn.cursor()\n",
    "\n",
    "# create the table\n",
    "curs.execute('''CREATE TABLE books\n",
    "    (title TEXT,\n",
    "    author TEXT,\n",
    "    year INT)''')\n",
    "\n",
    "conn.commit()\n",
    "conn.close()"
   ]
  },
  {
   "cell_type": "code",
   "execution_count": null,
   "id": "3424a737-9495-4bd2-9034-471119ec173d",
   "metadata": {},
   "outputs": [],
   "source": [
    "#16.8\n",
    "\n",
    "# books.db\n",
    "import sqlalchemy as sa\n",
    "\n",
    "# connect to SQLite database\n",
    "conn = sa.create_engine('sqlite:///books.db')\n",
    "\n",
    "# reflect the existing books table\n",
    "meta = sa.MetaData()\n",
    "books = sa.Table('books', meta, autoload_with=conn)\n",
    "\n",
    "# select titles in alphabetical order\n",
    "query = sa.select(books.c.title).order_by(books.c.title)\n",
    "\n",
    "result = conn.execute(query)\n",
    "\n",
    "for row in result:\n",
    "    print(row.title)"
   ]
  }
 ],
 "metadata": {
  "kernelspec": {
   "display_name": "Python [conda env:base] *",
   "language": "python",
   "name": "conda-base-py"
  },
  "language_info": {
   "codemirror_mode": {
    "name": "ipython",
    "version": 3
   },
   "file_extension": ".py",
   "mimetype": "text/x-python",
   "name": "python",
   "nbconvert_exporter": "python",
   "pygments_lexer": "ipython3",
   "version": "3.13.5"
  }
 },
 "nbformat": 4,
 "nbformat_minor": 5
}
